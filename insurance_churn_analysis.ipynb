{
 "cells": [
  {
   "cell_type": "code",
   "execution_count": 56,
   "metadata": {},
   "outputs": [],
   "source": [
    "import numpy as np\n",
    "import pandas as pd\n",
    "from sklearn.model_selection import cross_val_score, train_test_split, cross_val_predict, KFold\n",
    "from sklearn.preprocessing import LabelEncoder\n",
    "from sklearn.metrics import accuracy_score, confusion_matrix, f1_score\n",
    "import matplotlib.pyplot as plt\n",
    "import seaborn as sns\n",
    "import xgboost\n",
    "import catboost\n",
    "import lightgbm\n",
    "from xgboost import XGBClassifier\n",
    "from sklearn.model_selection import train_test_split\n",
    "from sklearn.metrics import accuracy_score\n",
    "from warnings import filterwarnings\n",
    "filterwarnings('ignore')"
   ]
  },
  {
   "cell_type": "code",
   "execution_count": 2,
   "metadata": {},
   "outputs": [],
   "source": [
    "df_train = pd.read_csv('Train.csv')\n",
    "df_test = pd.read_csv('Test.csv')"
   ]
  },
  {
   "cell_type": "code",
   "execution_count": 3,
   "metadata": {},
   "outputs": [
    {
     "data": {
      "text/html": [
       "<div>\n",
       "<style scoped>\n",
       "    .dataframe tbody tr th:only-of-type {\n",
       "        vertical-align: middle;\n",
       "    }\n",
       "\n",
       "    .dataframe tbody tr th {\n",
       "        vertical-align: top;\n",
       "    }\n",
       "\n",
       "    .dataframe thead th {\n",
       "        text-align: right;\n",
       "    }\n",
       "</style>\n",
       "<table border=\"1\" class=\"dataframe\">\n",
       "  <thead>\n",
       "    <tr style=\"text-align: right;\">\n",
       "      <th></th>\n",
       "      <th>perc_premium_paid_by_cash_credit</th>\n",
       "      <th>age_in_days</th>\n",
       "      <th>Income</th>\n",
       "      <th>Count_3.6_months_late</th>\n",
       "      <th>Count_6.12_months_late</th>\n",
       "      <th>Count_more_than_12_months_late</th>\n",
       "      <th>application_underwriting_score</th>\n",
       "      <th>no_of_premiums_paid</th>\n",
       "      <th>premium</th>\n",
       "      <th>renewal</th>\n",
       "    </tr>\n",
       "  </thead>\n",
       "  <tbody>\n",
       "    <tr>\n",
       "      <th>count</th>\n",
       "      <td>53236.000000</td>\n",
       "      <td>53236.000000</td>\n",
       "      <td>5.323600e+04</td>\n",
       "      <td>53172.000000</td>\n",
       "      <td>53172.000000</td>\n",
       "      <td>53172.000000</td>\n",
       "      <td>51260.000000</td>\n",
       "      <td>53236.000000</td>\n",
       "      <td>53236.000000</td>\n",
       "      <td>53236.000000</td>\n",
       "    </tr>\n",
       "    <tr>\n",
       "      <th>mean</th>\n",
       "      <td>0.314407</td>\n",
       "      <td>18850.101172</td>\n",
       "      <td>2.096828e+05</td>\n",
       "      <td>0.250019</td>\n",
       "      <td>0.077240</td>\n",
       "      <td>0.060652</td>\n",
       "      <td>99.062739</td>\n",
       "      <td>10.879198</td>\n",
       "      <td>10875.163423</td>\n",
       "      <td>0.937956</td>\n",
       "    </tr>\n",
       "    <tr>\n",
       "      <th>std</th>\n",
       "      <td>0.334858</td>\n",
       "      <td>5217.117568</td>\n",
       "      <td>5.763242e+05</td>\n",
       "      <td>0.696721</td>\n",
       "      <td>0.436435</td>\n",
       "      <td>0.314925</td>\n",
       "      <td>0.746464</td>\n",
       "      <td>5.168850</td>\n",
       "      <td>9318.368252</td>\n",
       "      <td>0.241239</td>\n",
       "    </tr>\n",
       "    <tr>\n",
       "      <th>min</th>\n",
       "      <td>0.000000</td>\n",
       "      <td>7670.000000</td>\n",
       "      <td>2.403000e+04</td>\n",
       "      <td>0.000000</td>\n",
       "      <td>0.000000</td>\n",
       "      <td>0.000000</td>\n",
       "      <td>91.960000</td>\n",
       "      <td>2.000000</td>\n",
       "      <td>1200.000000</td>\n",
       "      <td>0.000000</td>\n",
       "    </tr>\n",
       "    <tr>\n",
       "      <th>25%</th>\n",
       "      <td>0.034000</td>\n",
       "      <td>14974.000000</td>\n",
       "      <td>1.076000e+05</td>\n",
       "      <td>0.000000</td>\n",
       "      <td>0.000000</td>\n",
       "      <td>0.000000</td>\n",
       "      <td>98.810000</td>\n",
       "      <td>7.000000</td>\n",
       "      <td>5400.000000</td>\n",
       "      <td>1.000000</td>\n",
       "    </tr>\n",
       "    <tr>\n",
       "      <th>50%</th>\n",
       "      <td>0.167000</td>\n",
       "      <td>18625.000000</td>\n",
       "      <td>1.659600e+05</td>\n",
       "      <td>0.000000</td>\n",
       "      <td>0.000000</td>\n",
       "      <td>0.000000</td>\n",
       "      <td>99.210000</td>\n",
       "      <td>10.000000</td>\n",
       "      <td>7500.000000</td>\n",
       "      <td>1.000000</td>\n",
       "    </tr>\n",
       "    <tr>\n",
       "      <th>75%</th>\n",
       "      <td>0.539000</td>\n",
       "      <td>22636.000000</td>\n",
       "      <td>2.509900e+05</td>\n",
       "      <td>0.000000</td>\n",
       "      <td>0.000000</td>\n",
       "      <td>0.000000</td>\n",
       "      <td>99.530000</td>\n",
       "      <td>14.000000</td>\n",
       "      <td>13800.000000</td>\n",
       "      <td>1.000000</td>\n",
       "    </tr>\n",
       "    <tr>\n",
       "      <th>max</th>\n",
       "      <td>1.000000</td>\n",
       "      <td>37602.000000</td>\n",
       "      <td>9.026260e+07</td>\n",
       "      <td>13.000000</td>\n",
       "      <td>17.000000</td>\n",
       "      <td>11.000000</td>\n",
       "      <td>99.890000</td>\n",
       "      <td>60.000000</td>\n",
       "      <td>60000.000000</td>\n",
       "      <td>1.000000</td>\n",
       "    </tr>\n",
       "  </tbody>\n",
       "</table>\n",
       "</div>"
      ],
      "text/plain": [
       "       perc_premium_paid_by_cash_credit   age_in_days        Income  \\\n",
       "count                      53236.000000  53236.000000  5.323600e+04   \n",
       "mean                           0.314407  18850.101172  2.096828e+05   \n",
       "std                            0.334858   5217.117568  5.763242e+05   \n",
       "min                            0.000000   7670.000000  2.403000e+04   \n",
       "25%                            0.034000  14974.000000  1.076000e+05   \n",
       "50%                            0.167000  18625.000000  1.659600e+05   \n",
       "75%                            0.539000  22636.000000  2.509900e+05   \n",
       "max                            1.000000  37602.000000  9.026260e+07   \n",
       "\n",
       "       Count_3.6_months_late  Count_6.12_months_late  \\\n",
       "count           53172.000000            53172.000000   \n",
       "mean                0.250019                0.077240   \n",
       "std                 0.696721                0.436435   \n",
       "min                 0.000000                0.000000   \n",
       "25%                 0.000000                0.000000   \n",
       "50%                 0.000000                0.000000   \n",
       "75%                 0.000000                0.000000   \n",
       "max                13.000000               17.000000   \n",
       "\n",
       "       Count_more_than_12_months_late  application_underwriting_score  \\\n",
       "count                    53172.000000                    51260.000000   \n",
       "mean                         0.060652                       99.062739   \n",
       "std                          0.314925                        0.746464   \n",
       "min                          0.000000                       91.960000   \n",
       "25%                          0.000000                       98.810000   \n",
       "50%                          0.000000                       99.210000   \n",
       "75%                          0.000000                       99.530000   \n",
       "max                         11.000000                       99.890000   \n",
       "\n",
       "       no_of_premiums_paid       premium       renewal  \n",
       "count         53236.000000  53236.000000  53236.000000  \n",
       "mean             10.879198  10875.163423      0.937956  \n",
       "std               5.168850   9318.368252      0.241239  \n",
       "min               2.000000   1200.000000      0.000000  \n",
       "25%               7.000000   5400.000000      1.000000  \n",
       "50%              10.000000   7500.000000      1.000000  \n",
       "75%              14.000000  13800.000000      1.000000  \n",
       "max              60.000000  60000.000000      1.000000  "
      ]
     },
     "execution_count": 3,
     "metadata": {},
     "output_type": "execute_result"
    }
   ],
   "source": [
    "df_train.describe()"
   ]
  },
  {
   "cell_type": "code",
   "execution_count": 4,
   "metadata": {},
   "outputs": [
    {
     "data": {
      "text/html": [
       "<div>\n",
       "<style scoped>\n",
       "    .dataframe tbody tr th:only-of-type {\n",
       "        vertical-align: middle;\n",
       "    }\n",
       "\n",
       "    .dataframe tbody tr th {\n",
       "        vertical-align: top;\n",
       "    }\n",
       "\n",
       "    .dataframe thead th {\n",
       "        text-align: right;\n",
       "    }\n",
       "</style>\n",
       "<table border=\"1\" class=\"dataframe\">\n",
       "  <thead>\n",
       "    <tr style=\"text-align: right;\">\n",
       "      <th></th>\n",
       "      <th>perc_premium_paid_by_cash_credit</th>\n",
       "      <th>age_in_days</th>\n",
       "      <th>Income</th>\n",
       "      <th>Count_3.6_months_late</th>\n",
       "      <th>Count_6.12_months_late</th>\n",
       "      <th>Count_more_than_12_months_late</th>\n",
       "      <th>application_underwriting_score</th>\n",
       "      <th>no_of_premiums_paid</th>\n",
       "      <th>sourcing_channel</th>\n",
       "      <th>residence_area_type</th>\n",
       "      <th>premium</th>\n",
       "      <th>renewal</th>\n",
       "    </tr>\n",
       "  </thead>\n",
       "  <tbody>\n",
       "    <tr>\n",
       "      <th>0</th>\n",
       "      <td>0.429</td>\n",
       "      <td>12058</td>\n",
       "      <td>355060</td>\n",
       "      <td>0.0</td>\n",
       "      <td>0.0</td>\n",
       "      <td>0.0</td>\n",
       "      <td>99.02</td>\n",
       "      <td>13</td>\n",
       "      <td>C</td>\n",
       "      <td>Urban</td>\n",
       "      <td>3300</td>\n",
       "      <td>1</td>\n",
       "    </tr>\n",
       "    <tr>\n",
       "      <th>1</th>\n",
       "      <td>0.917</td>\n",
       "      <td>17531</td>\n",
       "      <td>84140</td>\n",
       "      <td>2.0</td>\n",
       "      <td>3.0</td>\n",
       "      <td>1.0</td>\n",
       "      <td>98.69</td>\n",
       "      <td>7</td>\n",
       "      <td>C</td>\n",
       "      <td>Rural</td>\n",
       "      <td>3300</td>\n",
       "      <td>0</td>\n",
       "    </tr>\n",
       "    <tr>\n",
       "      <th>2</th>\n",
       "      <td>0.049</td>\n",
       "      <td>15341</td>\n",
       "      <td>250510</td>\n",
       "      <td>0.0</td>\n",
       "      <td>0.0</td>\n",
       "      <td>0.0</td>\n",
       "      <td>99.57</td>\n",
       "      <td>9</td>\n",
       "      <td>A</td>\n",
       "      <td>Urban</td>\n",
       "      <td>9600</td>\n",
       "      <td>1</td>\n",
       "    </tr>\n",
       "    <tr>\n",
       "      <th>3</th>\n",
       "      <td>0.052</td>\n",
       "      <td>31400</td>\n",
       "      <td>198680</td>\n",
       "      <td>0.0</td>\n",
       "      <td>0.0</td>\n",
       "      <td>0.0</td>\n",
       "      <td>99.87</td>\n",
       "      <td>12</td>\n",
       "      <td>B</td>\n",
       "      <td>Urban</td>\n",
       "      <td>9600</td>\n",
       "      <td>1</td>\n",
       "    </tr>\n",
       "    <tr>\n",
       "      <th>4</th>\n",
       "      <td>1.000</td>\n",
       "      <td>24829</td>\n",
       "      <td>118400</td>\n",
       "      <td>0.0</td>\n",
       "      <td>0.0</td>\n",
       "      <td>0.0</td>\n",
       "      <td>99.05</td>\n",
       "      <td>11</td>\n",
       "      <td>B</td>\n",
       "      <td>Urban</td>\n",
       "      <td>7500</td>\n",
       "      <td>1</td>\n",
       "    </tr>\n",
       "  </tbody>\n",
       "</table>\n",
       "</div>"
      ],
      "text/plain": [
       "   perc_premium_paid_by_cash_credit  age_in_days  Income  \\\n",
       "0                             0.429        12058  355060   \n",
       "1                             0.917        17531   84140   \n",
       "2                             0.049        15341  250510   \n",
       "3                             0.052        31400  198680   \n",
       "4                             1.000        24829  118400   \n",
       "\n",
       "   Count_3.6_months_late  Count_6.12_months_late  \\\n",
       "0                    0.0                     0.0   \n",
       "1                    2.0                     3.0   \n",
       "2                    0.0                     0.0   \n",
       "3                    0.0                     0.0   \n",
       "4                    0.0                     0.0   \n",
       "\n",
       "   Count_more_than_12_months_late  application_underwriting_score  \\\n",
       "0                             0.0                           99.02   \n",
       "1                             1.0                           98.69   \n",
       "2                             0.0                           99.57   \n",
       "3                             0.0                           99.87   \n",
       "4                             0.0                           99.05   \n",
       "\n",
       "   no_of_premiums_paid sourcing_channel residence_area_type  premium  renewal  \n",
       "0                   13                C               Urban     3300        1  \n",
       "1                    7                C               Rural     3300        0  \n",
       "2                    9                A               Urban     9600        1  \n",
       "3                   12                B               Urban     9600        1  \n",
       "4                   11                B               Urban     7500        1  "
      ]
     },
     "execution_count": 4,
     "metadata": {},
     "output_type": "execute_result"
    }
   ],
   "source": [
    "df_train.head()"
   ]
  },
  {
   "cell_type": "markdown",
   "metadata": {},
   "source": [
    "### Labeling categorical parameters\n",
    "\n",
    "only sourcing_channel and residence_area_type are categorical data types in this data set."
   ]
  },
  {
   "cell_type": "code",
   "execution_count": 10,
   "metadata": {},
   "outputs": [
    {
     "data": {
      "text/html": [
       "<div>\n",
       "<style scoped>\n",
       "    .dataframe tbody tr th:only-of-type {\n",
       "        vertical-align: middle;\n",
       "    }\n",
       "\n",
       "    .dataframe tbody tr th {\n",
       "        vertical-align: top;\n",
       "    }\n",
       "\n",
       "    .dataframe thead th {\n",
       "        text-align: right;\n",
       "    }\n",
       "</style>\n",
       "<table border=\"1\" class=\"dataframe\">\n",
       "  <thead>\n",
       "    <tr style=\"text-align: right;\">\n",
       "      <th></th>\n",
       "      <th>perc_premium_paid_by_cash_credit</th>\n",
       "      <th>age_in_days</th>\n",
       "      <th>Income</th>\n",
       "      <th>Count_3.6_months_late</th>\n",
       "      <th>Count_6.12_months_late</th>\n",
       "      <th>Count_more_than_12_months_late</th>\n",
       "      <th>application_underwriting_score</th>\n",
       "      <th>no_of_premiums_paid</th>\n",
       "      <th>sourcing_channel</th>\n",
       "      <th>residence_area_type</th>\n",
       "      <th>premium</th>\n",
       "      <th>renewal</th>\n",
       "    </tr>\n",
       "  </thead>\n",
       "  <tbody>\n",
       "    <tr>\n",
       "      <th>0</th>\n",
       "      <td>0.429</td>\n",
       "      <td>12058</td>\n",
       "      <td>355060</td>\n",
       "      <td>0.0</td>\n",
       "      <td>0.0</td>\n",
       "      <td>0.0</td>\n",
       "      <td>99.02</td>\n",
       "      <td>13</td>\n",
       "      <td>2</td>\n",
       "      <td>1</td>\n",
       "      <td>3300</td>\n",
       "      <td>1</td>\n",
       "    </tr>\n",
       "    <tr>\n",
       "      <th>1</th>\n",
       "      <td>0.917</td>\n",
       "      <td>17531</td>\n",
       "      <td>84140</td>\n",
       "      <td>2.0</td>\n",
       "      <td>3.0</td>\n",
       "      <td>1.0</td>\n",
       "      <td>98.69</td>\n",
       "      <td>7</td>\n",
       "      <td>2</td>\n",
       "      <td>0</td>\n",
       "      <td>3300</td>\n",
       "      <td>0</td>\n",
       "    </tr>\n",
       "    <tr>\n",
       "      <th>2</th>\n",
       "      <td>0.049</td>\n",
       "      <td>15341</td>\n",
       "      <td>250510</td>\n",
       "      <td>0.0</td>\n",
       "      <td>0.0</td>\n",
       "      <td>0.0</td>\n",
       "      <td>99.57</td>\n",
       "      <td>9</td>\n",
       "      <td>0</td>\n",
       "      <td>1</td>\n",
       "      <td>9600</td>\n",
       "      <td>1</td>\n",
       "    </tr>\n",
       "    <tr>\n",
       "      <th>3</th>\n",
       "      <td>0.052</td>\n",
       "      <td>31400</td>\n",
       "      <td>198680</td>\n",
       "      <td>0.0</td>\n",
       "      <td>0.0</td>\n",
       "      <td>0.0</td>\n",
       "      <td>99.87</td>\n",
       "      <td>12</td>\n",
       "      <td>1</td>\n",
       "      <td>1</td>\n",
       "      <td>9600</td>\n",
       "      <td>1</td>\n",
       "    </tr>\n",
       "    <tr>\n",
       "      <th>4</th>\n",
       "      <td>1.000</td>\n",
       "      <td>24829</td>\n",
       "      <td>118400</td>\n",
       "      <td>0.0</td>\n",
       "      <td>0.0</td>\n",
       "      <td>0.0</td>\n",
       "      <td>99.05</td>\n",
       "      <td>11</td>\n",
       "      <td>1</td>\n",
       "      <td>1</td>\n",
       "      <td>7500</td>\n",
       "      <td>1</td>\n",
       "    </tr>\n",
       "  </tbody>\n",
       "</table>\n",
       "</div>"
      ],
      "text/plain": [
       "   perc_premium_paid_by_cash_credit  age_in_days  Income  \\\n",
       "0                             0.429        12058  355060   \n",
       "1                             0.917        17531   84140   \n",
       "2                             0.049        15341  250510   \n",
       "3                             0.052        31400  198680   \n",
       "4                             1.000        24829  118400   \n",
       "\n",
       "   Count_3.6_months_late  Count_6.12_months_late  \\\n",
       "0                    0.0                     0.0   \n",
       "1                    2.0                     3.0   \n",
       "2                    0.0                     0.0   \n",
       "3                    0.0                     0.0   \n",
       "4                    0.0                     0.0   \n",
       "\n",
       "   Count_more_than_12_months_late  application_underwriting_score  \\\n",
       "0                             0.0                           99.02   \n",
       "1                             1.0                           98.69   \n",
       "2                             0.0                           99.57   \n",
       "3                             0.0                           99.87   \n",
       "4                             0.0                           99.05   \n",
       "\n",
       "   no_of_premiums_paid  sourcing_channel  residence_area_type  premium  \\\n",
       "0                   13                 2                    1     3300   \n",
       "1                    7                 2                    0     3300   \n",
       "2                    9                 0                    1     9600   \n",
       "3                   12                 1                    1     9600   \n",
       "4                   11                 1                    1     7500   \n",
       "\n",
       "   renewal  \n",
       "0        1  \n",
       "1        0  \n",
       "2        1  \n",
       "3        1  \n",
       "4        1  "
      ]
     },
     "execution_count": 10,
     "metadata": {},
     "output_type": "execute_result"
    }
   ],
   "source": [
    "\n",
    "for col in df_train.columns:\n",
    "    le = LabelEncoder()\n",
    "    if df_train[col].dtype == 'object':\n",
    "        df_train[col] = le.fit_transform(df_train[col]) \n",
    "        df_test[col] = le.transform(df_test[col])\n",
    "\n",
    "df_train.head()"
   ]
  },
  {
   "cell_type": "markdown",
   "metadata": {},
   "source": [
    "### Chcking data quality"
   ]
  },
  {
   "cell_type": "code",
   "execution_count": 12,
   "metadata": {},
   "outputs": [
    {
     "data": {
      "text/plain": [
       "perc_premium_paid_by_cash_credit    False\n",
       "age_in_days                         False\n",
       "Income                              False\n",
       "Count_3.6_months_late                True\n",
       "Count_6.12_months_late               True\n",
       "Count_more_than_12_months_late       True\n",
       "application_underwriting_score       True\n",
       "no_of_premiums_paid                 False\n",
       "sourcing_channel                    False\n",
       "residence_area_type                 False\n",
       "premium                             False\n",
       "renewal                             False\n",
       "dtype: bool"
      ]
     },
     "execution_count": 12,
     "metadata": {},
     "output_type": "execute_result"
    }
   ],
   "source": [
    "df_train.isnull().any()"
   ]
  },
  {
   "cell_type": "code",
   "execution_count": 14,
   "metadata": {},
   "outputs": [
    {
     "data": {
      "text/plain": [
       "(array([], dtype=int64), array([], dtype=int64))"
      ]
     },
     "execution_count": 14,
     "metadata": {},
     "output_type": "execute_result"
    }
   ],
   "source": [
    "np.where(df_train.applymap(lambda x: x == ''))"
   ]
  },
  {
   "cell_type": "code",
   "execution_count": 16,
   "metadata": {},
   "outputs": [
    {
     "data": {
      "text/plain": [
       "perc_premium_paid_by_cash_credit       0\n",
       "age_in_days                            0\n",
       "Income                                 0\n",
       "Count_3.6_months_late                 64\n",
       "Count_6.12_months_late                64\n",
       "Count_more_than_12_months_late        64\n",
       "application_underwriting_score      1976\n",
       "no_of_premiums_paid                    0\n",
       "sourcing_channel                       0\n",
       "residence_area_type                    0\n",
       "premium                                0\n",
       "renewal                                0\n",
       "dtype: int64"
      ]
     },
     "execution_count": 16,
     "metadata": {},
     "output_type": "execute_result"
    }
   ],
   "source": [
    "df_train.isnull().sum()"
   ]
  },
  {
   "cell_type": "code",
   "execution_count": 33,
   "metadata": {},
   "outputs": [
    {
     "data": {
      "text/plain": [
       "0    1\n",
       "1    0\n",
       "2    1\n",
       "3    1\n",
       "4    1\n",
       "Name: renewal, dtype: int64"
      ]
     },
     "execution_count": 33,
     "metadata": {},
     "output_type": "execute_result"
    }
   ],
   "source": [
    "X = df_train.drop('renewal', axis = 1)\n",
    "y = df_train['renewal']"
   ]
  },
  {
   "cell_type": "code",
   "execution_count": 55,
   "metadata": {},
   "outputs": [
    {
     "name": "stdout",
     "output_type": "stream",
     "text": [
      "[15:18:53] WARNING: C:/Users/Administrator/workspace/xgboost-win64_release_1.3.0/src/learner.cc:1061: Starting in XGBoost 1.3.0, the default evaluation metric used with the objective 'binary:logistic' was changed from 'error' to 'logloss'. Explicitly set eval_metric if you'd like to restore the old behavior.\n",
      "[0]\tvalidation_0-logloss:0.68952\tvalidation_1-logloss:0.68953\n",
      "[150]\tvalidation_0-logloss:0.44046\tvalidation_1-logloss:0.44327\n",
      "[300]\tvalidation_0-logloss:0.37712\tvalidation_1-logloss:0.38415\n",
      "[450]\tvalidation_0-logloss:0.35073\tvalidation_1-logloss:0.36314\n",
      "[600]\tvalidation_0-logloss:0.33622\tvalidation_1-logloss:0.35334\n",
      "[750]\tvalidation_0-logloss:0.32579\tvalidation_1-logloss:0.34658\n",
      "[900]\tvalidation_0-logloss:0.31624\tvalidation_1-logloss:0.34097\n",
      "[1050]\tvalidation_0-logloss:0.30846\tvalidation_1-logloss:0.33636\n",
      "[1200]\tvalidation_0-logloss:0.30135\tvalidation_1-logloss:0.33222\n",
      "[1350]\tvalidation_0-logloss:0.29485\tvalidation_1-logloss:0.32832\n",
      "[1500]\tvalidation_0-logloss:0.28784\tvalidation_1-logloss:0.32432\n",
      "[1650]\tvalidation_0-logloss:0.28145\tvalidation_1-logloss:0.32095\n",
      "[1800]\tvalidation_0-logloss:0.27498\tvalidation_1-logloss:0.31745\n",
      "[1950]\tvalidation_0-logloss:0.26805\tvalidation_1-logloss:0.31328\n",
      "[1999]\tvalidation_0-logloss:0.26617\tvalidation_1-logloss:0.31225\n"
     ]
    },
    {
     "data": {
      "text/plain": [
       "XGBClassifier(base_score=0.5, booster='gbtree', colsample_bylevel=1,\n",
       "              colsample_bynode=1, colsample_bytree=0.85, gamma=0, gpu_id=-1,\n",
       "              importance_type='gain', interaction_constraints='',\n",
       "              learning_rate=0.008, max_delta_step=0, max_depth=8,\n",
       "              min_child_weight=1, missing=None, monotone_constraints='()',\n",
       "              n_estimators=2000, n_jobs=8, num_parallel_tree=1,\n",
       "              random_state=2020, reg_alpha=2.01, reg_lambda=0.05,\n",
       "              scale_pos_weight=0.1, subsample=1, tree_method='exact',\n",
       "              validate_parameters=1, verbosity=1)"
      ]
     },
     "execution_count": 55,
     "metadata": {},
     "output_type": "execute_result"
    }
   ],
   "source": [
    "seed = 2021\n",
    "test_size = 0.3\n",
    "X_train, X_test, y_train, y_test = train_test_split(X,y, test_size=test_size, random_state = seed)\n",
    "# preparing validation set\n",
    "X_test, X_val, y_test, y_val = train_test_split(X_test, y_test, test_size=.5)\n",
    "\n",
    "# fit model on training data\n",
    "xgb_model = XGBClassifier(random_state=2020, n_estimators=2000, max_depth=8, colsample_bytree=0.85, missing=None,\n",
    "                          scale_pos_weight=0.1, learning_rate=0.008, reg_alpha=2.01, reg_lambda=0.05, verbosity=1)\n",
    "xgb_model.fit(X_train, y_train, eval_set=[(X_train, y_train), (X_val, y_val)], early_stopping_rounds=10, verbose=150 )\n"
   ]
  },
  {
   "cell_type": "markdown",
   "metadata": {},
   "source": [
    "### trained model accuracy\n",
    "\n",
    "pos_label : str or int, 1 by default\n",
    "    The class to report if ``average='binary'`` and the data is binary.\n",
    "    If the data are multiclass or multilabel, this will be ignored;\n",
    "    setting ``labels=[pos_label]`` and ``average != 'binary'`` will report\n",
    "    scores for that label only."
   ]
  },
  {
   "cell_type": "code",
   "execution_count": 57,
   "metadata": {},
   "outputs": [
    {
     "data": {
      "text/plain": [
       "array([1, 1, 1, ..., 0, 1, 1], dtype=int64)"
      ]
     },
     "execution_count": 57,
     "metadata": {},
     "output_type": "execute_result"
    }
   ],
   "source": [
    "predictions_xgb = xgb_model.predict(X_test)\n",
    "predictions_xgb "
   ]
  },
  {
   "cell_type": "code",
   "execution_count": 58,
   "metadata": {},
   "outputs": [
    {
     "data": {
      "text/plain": [
       "0.878522229179712"
      ]
     },
     "execution_count": 58,
     "metadata": {},
     "output_type": "execute_result"
    }
   ],
   "source": [
    "accuracy_score(y_test, predictions_xgb)"
   ]
  },
  {
   "cell_type": "code",
   "execution_count": 59,
   "metadata": {},
   "outputs": [
    {
     "data": {
      "text/plain": [
       "0.9327789327789326"
      ]
     },
     "execution_count": 59,
     "metadata": {},
     "output_type": "execute_result"
    }
   ],
   "source": [
    "f1_score(y_test, predictions_xgb, pos_label=1)"
   ]
  },
  {
   "cell_type": "code",
   "execution_count": 60,
   "metadata": {},
   "outputs": [
    {
     "data": {
      "text/plain": [
       "0.3701298701298702"
      ]
     },
     "execution_count": 60,
     "metadata": {},
     "output_type": "execute_result"
    }
   ],
   "source": [
    "f1_score(y_test, predictions_xgb, pos_label=0)"
   ]
  },
  {
   "cell_type": "markdown",
   "metadata": {},
   "source": [
    "### Train xgboost model with cross validation\n",
    "\n",
    "More detail available at [link](https://machinelearningmastery.com/evaluate-gradient-boosting-models-xgboost-python/)."
   ]
  },
  {
   "cell_type": "code",
   "execution_count": 61,
   "metadata": {},
   "outputs": [
    {
     "name": "stdout",
     "output_type": "stream",
     "text": [
      "[15:36:07] WARNING: C:/Users/Administrator/workspace/xgboost-win64_release_1.3.0/src/learner.cc:1061: Starting in XGBoost 1.3.0, the default evaluation metric used with the objective 'binary:logistic' was changed from 'error' to 'logloss'. Explicitly set eval_metric if you'd like to restore the old behavior.\n",
      "[15:38:23] WARNING: C:/Users/Administrator/workspace/xgboost-win64_release_1.3.0/src/learner.cc:1061: Starting in XGBoost 1.3.0, the default evaluation metric used with the objective 'binary:logistic' was changed from 'error' to 'logloss'. Explicitly set eval_metric if you'd like to restore the old behavior.\n",
      "[15:40:55] WARNING: C:/Users/Administrator/workspace/xgboost-win64_release_1.3.0/src/learner.cc:1061: Starting in XGBoost 1.3.0, the default evaluation metric used with the objective 'binary:logistic' was changed from 'error' to 'logloss'. Explicitly set eval_metric if you'd like to restore the old behavior.\n",
      "[15:44:22] WARNING: C:/Users/Administrator/workspace/xgboost-win64_release_1.3.0/src/learner.cc:1061: Starting in XGBoost 1.3.0, the default evaluation metric used with the objective 'binary:logistic' was changed from 'error' to 'logloss'. Explicitly set eval_metric if you'd like to restore the old behavior.\n",
      "[15:47:53] WARNING: C:/Users/Administrator/workspace/xgboost-win64_release_1.3.0/src/learner.cc:1061: Starting in XGBoost 1.3.0, the default evaluation metric used with the objective 'binary:logistic' was changed from 'error' to 'logloss'. Explicitly set eval_metric if you'd like to restore the old behavior.\n",
      "[15:51:24] WARNING: C:/Users/Administrator/workspace/xgboost-win64_release_1.3.0/src/learner.cc:1061: Starting in XGBoost 1.3.0, the default evaluation metric used with the objective 'binary:logistic' was changed from 'error' to 'logloss'. Explicitly set eval_metric if you'd like to restore the old behavior.\n",
      "[15:55:14] WARNING: C:/Users/Administrator/workspace/xgboost-win64_release_1.3.0/src/learner.cc:1061: Starting in XGBoost 1.3.0, the default evaluation metric used with the objective 'binary:logistic' was changed from 'error' to 'logloss'. Explicitly set eval_metric if you'd like to restore the old behavior.\n",
      "[15:58:50] WARNING: C:/Users/Administrator/workspace/xgboost-win64_release_1.3.0/src/learner.cc:1061: Starting in XGBoost 1.3.0, the default evaluation metric used with the objective 'binary:logistic' was changed from 'error' to 'logloss'. Explicitly set eval_metric if you'd like to restore the old behavior.\n",
      "[16:02:11] WARNING: C:/Users/Administrator/workspace/xgboost-win64_release_1.3.0/src/learner.cc:1061: Starting in XGBoost 1.3.0, the default evaluation metric used with the objective 'binary:logistic' was changed from 'error' to 'logloss'. Explicitly set eval_metric if you'd like to restore the old behavior.\n",
      "[16:05:53] WARNING: C:/Users/Administrator/workspace/xgboost-win64_release_1.3.0/src/learner.cc:1061: Starting in XGBoost 1.3.0, the default evaluation metric used with the objective 'binary:logistic' was changed from 'error' to 'logloss'. Explicitly set eval_metric if you'd like to restore the old behavior.\n"
     ]
    }
   ],
   "source": [
    "kfold = KFold(n_splits=10, random_state=7)\n",
    "results = cross_val_score(xgb_model, X, y, cv=kfold) # scoring='accuracy'"
   ]
  },
  {
   "cell_type": "code",
   "execution_count": 62,
   "metadata": {},
   "outputs": [
    {
     "data": {
      "text/plain": [
       "0.8743707438609338"
      ]
     },
     "execution_count": 62,
     "metadata": {},
     "output_type": "execute_result"
    }
   ],
   "source": [
    "# using average of all folds' accuracy as out-of-sample accuracy\n",
    "results.mean()"
   ]
  },
  {
   "cell_type": "code",
   "execution_count": 65,
   "metadata": {
    "scrolled": true
   },
   "outputs": [
    {
     "name": "stdout",
     "output_type": "stream",
     "text": [
      "[16:20:55] WARNING: C:/Users/Administrator/workspace/xgboost-win64_release_1.3.0/src/learner.cc:1061: Starting in XGBoost 1.3.0, the default evaluation metric used with the objective 'binary:logistic' was changed from 'error' to 'logloss'. Explicitly set eval_metric if you'd like to restore the old behavior.\n",
      "[0]\tvalidation_0-logloss:0.68942\tvalidation_1-logloss:0.68950\n",
      "[250]\tvalidation_0-logloss:0.38673\tvalidation_1-logloss:0.39753\n",
      "[500]\tvalidation_0-logloss:0.34189\tvalidation_1-logloss:0.36051\n",
      "[750]\tvalidation_0-logloss:0.32423\tvalidation_1-logloss:0.34875\n",
      "[1000]\tvalidation_0-logloss:0.31052\tvalidation_1-logloss:0.34013\n",
      "[1250]\tvalidation_0-logloss:0.29787\tvalidation_1-logloss:0.33296\n",
      "[1500]\tvalidation_0-logloss:0.28679\tvalidation_1-logloss:0.32658\n",
      "[1750]\tvalidation_0-logloss:0.27719\tvalidation_1-logloss:0.32123\n",
      "[1999]\tvalidation_0-logloss:0.26784\tvalidation_1-logloss:0.31594\n",
      "[16:22:14] WARNING: C:/Users/Administrator/workspace/xgboost-win64_release_1.3.0/src/learner.cc:1061: Starting in XGBoost 1.3.0, the default evaluation metric used with the objective 'binary:logistic' was changed from 'error' to 'logloss'. Explicitly set eval_metric if you'd like to restore the old behavior.\n",
      "[0]\tvalidation_0-logloss:0.68938\tvalidation_1-logloss:0.68939\n",
      "[250]\tvalidation_0-logloss:0.38253\tvalidation_1-logloss:0.39047\n",
      "[500]\tvalidation_0-logloss:0.33742\tvalidation_1-logloss:0.35403\n",
      "[750]\tvalidation_0-logloss:0.32019\tvalidation_1-logloss:0.34309\n",
      "[1000]\tvalidation_0-logloss:0.30786\tvalidation_1-logloss:0.33625\n",
      "[1250]\tvalidation_0-logloss:0.29625\tvalidation_1-logloss:0.33010\n",
      "[1500]\tvalidation_0-logloss:0.28514\tvalidation_1-logloss:0.32424\n",
      "[1750]\tvalidation_0-logloss:0.27461\tvalidation_1-logloss:0.31863\n",
      "[1999]\tvalidation_0-logloss:0.26571\tvalidation_1-logloss:0.31421\n",
      "[16:23:37] WARNING: C:/Users/Administrator/workspace/xgboost-win64_release_1.3.0/src/learner.cc:1061: Starting in XGBoost 1.3.0, the default evaluation metric used with the objective 'binary:logistic' was changed from 'error' to 'logloss'. Explicitly set eval_metric if you'd like to restore the old behavior.\n",
      "[0]\tvalidation_0-logloss:0.68943\tvalidation_1-logloss:0.68951\n",
      "[250]\tvalidation_0-logloss:0.38610\tvalidation_1-logloss:0.39694\n",
      "[500]\tvalidation_0-logloss:0.34007\tvalidation_1-logloss:0.36037\n",
      "[750]\tvalidation_0-logloss:0.32149\tvalidation_1-logloss:0.34954\n",
      "[1000]\tvalidation_0-logloss:0.30916\tvalidation_1-logloss:0.34305\n",
      "[1250]\tvalidation_0-logloss:0.29752\tvalidation_1-logloss:0.33690\n",
      "[1500]\tvalidation_0-logloss:0.28639\tvalidation_1-logloss:0.33093\n",
      "[1750]\tvalidation_0-logloss:0.27576\tvalidation_1-logloss:0.32510\n",
      "[1999]\tvalidation_0-logloss:0.26626\tvalidation_1-logloss:0.32007\n",
      "[16:24:55] WARNING: C:/Users/Administrator/workspace/xgboost-win64_release_1.3.0/src/learner.cc:1061: Starting in XGBoost 1.3.0, the default evaluation metric used with the objective 'binary:logistic' was changed from 'error' to 'logloss'. Explicitly set eval_metric if you'd like to restore the old behavior.\n",
      "[0]\tvalidation_0-logloss:0.68947\tvalidation_1-logloss:0.68952\n",
      "[250]\tvalidation_0-logloss:0.38707\tvalidation_1-logloss:0.39670\n",
      "[500]\tvalidation_0-logloss:0.34093\tvalidation_1-logloss:0.35900\n",
      "[750]\tvalidation_0-logloss:0.32232\tvalidation_1-logloss:0.34709\n",
      "[1000]\tvalidation_0-logloss:0.30935\tvalidation_1-logloss:0.33913\n",
      "[1250]\tvalidation_0-logloss:0.29847\tvalidation_1-logloss:0.33271\n",
      "[1500]\tvalidation_0-logloss:0.28708\tvalidation_1-logloss:0.32614\n",
      "[1750]\tvalidation_0-logloss:0.27739\tvalidation_1-logloss:0.32059\n",
      "[1999]\tvalidation_0-logloss:0.26889\tvalidation_1-logloss:0.31570\n",
      "[16:26:13] WARNING: C:/Users/Administrator/workspace/xgboost-win64_release_1.3.0/src/learner.cc:1061: Starting in XGBoost 1.3.0, the default evaluation metric used with the objective 'binary:logistic' was changed from 'error' to 'logloss'. Explicitly set eval_metric if you'd like to restore the old behavior.\n",
      "[0]\tvalidation_0-logloss:0.68941\tvalidation_1-logloss:0.68946\n",
      "[250]\tvalidation_0-logloss:0.38437\tvalidation_1-logloss:0.39563\n",
      "[500]\tvalidation_0-logloss:0.33850\tvalidation_1-logloss:0.35970\n",
      "[750]\tvalidation_0-logloss:0.32043\tvalidation_1-logloss:0.34783\n",
      "[1000]\tvalidation_0-logloss:0.30770\tvalidation_1-logloss:0.34025\n",
      "[1250]\tvalidation_0-logloss:0.29553\tvalidation_1-logloss:0.33313\n",
      "[1500]\tvalidation_0-logloss:0.28508\tvalidation_1-logloss:0.32724\n",
      "[1750]\tvalidation_0-logloss:0.27516\tvalidation_1-logloss:0.32227\n",
      "[1999]\tvalidation_0-logloss:0.26619\tvalidation_1-logloss:0.31725\n"
     ]
    },
    {
     "ename": "AttributeError",
     "evalue": "'list' object has no attribute 'mean'",
     "output_type": "error",
     "traceback": [
      "\u001b[1;31m---------------------------------------------------------------------------\u001b[0m",
      "\u001b[1;31mAttributeError\u001b[0m                            Traceback (most recent call last)",
      "\u001b[1;32m<ipython-input-65-c8a21ece3f4e>\u001b[0m in \u001b[0;36m<module>\u001b[1;34m\u001b[0m\n\u001b[0;32m     16\u001b[0m     \u001b[0mff1\u001b[0m\u001b[1;33m.\u001b[0m\u001b[0mappend\u001b[0m\u001b[1;33m(\u001b[0m\u001b[0mf1_score\u001b[0m\u001b[1;33m(\u001b[0m\u001b[0my_test\u001b[0m\u001b[1;33m,\u001b[0m \u001b[0mpred\u001b[0m\u001b[1;33m,\u001b[0m \u001b[0mpos_label\u001b[0m\u001b[1;33m=\u001b[0m\u001b[1;36m0\u001b[0m\u001b[1;33m)\u001b[0m\u001b[1;33m)\u001b[0m\u001b[1;33m\u001b[0m\u001b[1;33m\u001b[0m\u001b[0m\n\u001b[0;32m     17\u001b[0m     \u001b[0mff2\u001b[0m\u001b[1;33m.\u001b[0m\u001b[0mappend\u001b[0m\u001b[1;33m(\u001b[0m\u001b[0mf1_score\u001b[0m\u001b[1;33m(\u001b[0m\u001b[0my_test\u001b[0m\u001b[1;33m,\u001b[0m \u001b[0mpred\u001b[0m\u001b[1;33m,\u001b[0m \u001b[0mpos_label\u001b[0m\u001b[1;33m=\u001b[0m\u001b[1;36m1\u001b[0m\u001b[1;33m)\u001b[0m\u001b[1;33m)\u001b[0m\u001b[1;33m\u001b[0m\u001b[1;33m\u001b[0m\u001b[0m\n\u001b[1;32m---> 18\u001b[1;33m \u001b[0mff1_mean\u001b[0m \u001b[1;33m=\u001b[0m \u001b[0mff1\u001b[0m\u001b[1;33m.\u001b[0m\u001b[0mmean\u001b[0m\u001b[1;33m(\u001b[0m\u001b[1;33m)\u001b[0m\u001b[1;33m\u001b[0m\u001b[1;33m\u001b[0m\u001b[0m\n\u001b[0m\u001b[0;32m     19\u001b[0m \u001b[0mff2_mean\u001b[0m \u001b[1;33m=\u001b[0m \u001b[0mff1\u001b[0m\u001b[1;33m.\u001b[0m\u001b[0mmean\u001b[0m\u001b[1;33m(\u001b[0m\u001b[1;33m)\u001b[0m\u001b[1;33m\u001b[0m\u001b[1;33m\u001b[0m\u001b[0m\n",
      "\u001b[1;31mAttributeError\u001b[0m: 'list' object has no attribute 'mean'"
     ]
    }
   ],
   "source": [
    "xgb_model = XGBClassifier(random_state=2020, n_estimators=2000, max_depth=8, colsample_bytree=0.85, missing=None,\n",
    "                          scale_pos_weight=0.1, learning_rate=0.008, reg_alpha=2.01, reg_lambda=0.05, verbosity=1)\n",
    "\n",
    "\n",
    "# X: feature matrix\n",
    "# y: target value\n",
    "ff1 = []\n",
    "ff2 = []\n",
    "kf = KFold(n_splits=5)\n",
    "for train_index, test_index in kf.split(X):\n",
    "    X_train, X_test = X.iloc[train_index], X.iloc[test_index]\n",
    "    y_train, y_test = y[train_index], y[test_index]\n",
    "\n",
    "    xgb_model.fit(X_train, y_train, eval_set=[(X_train, y_train),(X_test, y_test)], verbose=250, early_stopping_rounds=10)\n",
    "    pred = xgb_model.predict(X_test)\n",
    "    ff1.append(f1_score(y_test, pred, pos_label=0))\n",
    "    ff2.append(f1_score(y_test, pred, pos_label=1))\n",
    "ff1_mean = ff1.mean()\n",
    "ff2_mean = ff2.mean()"
   ]
  },
  {
   "cell_type": "code",
   "execution_count": 66,
   "metadata": {},
   "outputs": [
    {
     "data": {
      "text/plain": [
       "[0.3697560975609756,\n",
       " 0.39245283018867927,\n",
       " 0.34096444227959083,\n",
       " 0.36168132942326486,\n",
       " 0.3401496259351621]"
      ]
     },
     "execution_count": 66,
     "metadata": {},
     "output_type": "execute_result"
    }
   ],
   "source": [
    "ff1"
   ]
  },
  {
   "cell_type": "markdown",
   "metadata": {},
   "source": [
    "### Feature importance of xgboost model"
   ]
  },
  {
   "cell_type": "code",
   "execution_count": 67,
   "metadata": {},
   "outputs": [
    {
     "data": {
      "text/plain": [
       "array([0.11077998, 0.02295998, 0.0210686 , 0.17539798, 0.41342306,\n",
       "       0.15846011, 0.0231732 , 0.02247528, 0.0177384 , 0.01647643,\n",
       "       0.01804698], dtype=float32)"
      ]
     },
     "execution_count": 67,
     "metadata": {},
     "output_type": "execute_result"
    }
   ],
   "source": [
    "xgb_model.feature_importances_"
   ]
  },
  {
   "cell_type": "code",
   "execution_count": 71,
   "metadata": {},
   "outputs": [
    {
     "data": {
      "image/png": "[encoded data removed]",
      "text/plain": [
       "<Figure size 576x432 with 1 Axes>"
      ]
     },
     "metadata": {},
     "output_type": "display_data"
    }
   ],
   "source": [
    "imp = pd.DataFrame({'Importance':xgb_model.feature_importances_,'Feature':X.columns})\n",
    "plt.figure(figsize=(8, 6))\n",
    "sns.set(font_scale = 1)\n",
    "sns.barplot(x=\"Importance\", y=\"Feature\", data=imp.sort_values(by=\"Importance\", ascending=False))\n",
    "plt.title('XGBoostFeatures')\n",
    "plt.tight_layout()\n",
    "plt.show()"
   ]
  },
  {
   "cell_type": "code",
   "execution_count": 70,
   "metadata": {},
   "outputs": [
    {
     "data": {
      "text/html": [
       "<div>\n",
       "<style scoped>\n",
       "    .dataframe tbody tr th:only-of-type {\n",
       "        vertical-align: middle;\n",
       "    }\n",
       "\n",
       "    .dataframe tbody tr th {\n",
       "        vertical-align: top;\n",
       "    }\n",
       "\n",
       "    .dataframe thead th {\n",
       "        text-align: right;\n",
       "    }\n",
       "</style>\n",
       "<table border=\"1\" class=\"dataframe\">\n",
       "  <thead>\n",
       "    <tr style=\"text-align: right;\">\n",
       "      <th></th>\n",
       "      <th>Importance</th>\n",
       "      <th>Feature</th>\n",
       "    </tr>\n",
       "  </thead>\n",
       "  <tbody>\n",
       "    <tr>\n",
       "      <th>0</th>\n",
       "      <td>0.110780</td>\n",
       "      <td>perc_premium_paid_by_cash_credit</td>\n",
       "    </tr>\n",
       "    <tr>\n",
       "      <th>1</th>\n",
       "      <td>0.022960</td>\n",
       "      <td>age_in_days</td>\n",
       "    </tr>\n",
       "    <tr>\n",
       "      <th>2</th>\n",
       "      <td>0.021069</td>\n",
       "      <td>Income</td>\n",
       "    </tr>\n",
       "    <tr>\n",
       "      <th>3</th>\n",
       "      <td>0.175398</td>\n",
       "      <td>Count_3.6_months_late</td>\n",
       "    </tr>\n",
       "    <tr>\n",
       "      <th>4</th>\n",
       "      <td>0.413423</td>\n",
       "      <td>Count_6.12_months_late</td>\n",
       "    </tr>\n",
       "    <tr>\n",
       "      <th>5</th>\n",
       "      <td>0.158460</td>\n",
       "      <td>Count_more_than_12_months_late</td>\n",
       "    </tr>\n",
       "    <tr>\n",
       "      <th>6</th>\n",
       "      <td>0.023173</td>\n",
       "      <td>application_underwriting_score</td>\n",
       "    </tr>\n",
       "    <tr>\n",
       "      <th>7</th>\n",
       "      <td>0.022475</td>\n",
       "      <td>no_of_premiums_paid</td>\n",
       "    </tr>\n",
       "    <tr>\n",
       "      <th>8</th>\n",
       "      <td>0.017738</td>\n",
       "      <td>sourcing_channel</td>\n",
       "    </tr>\n",
       "    <tr>\n",
       "      <th>9</th>\n",
       "      <td>0.016476</td>\n",
       "      <td>residence_area_type</td>\n",
       "    </tr>\n",
       "    <tr>\n",
       "      <th>10</th>\n",
       "      <td>0.018047</td>\n",
       "      <td>premium</td>\n",
       "    </tr>\n",
       "  </tbody>\n",
       "</table>\n",
       "</div>"
      ],
      "text/plain": [
       "    Importance                           Feature\n",
       "0     0.110780  perc_premium_paid_by_cash_credit\n",
       "1     0.022960                       age_in_days\n",
       "2     0.021069                            Income\n",
       "3     0.175398             Count_3.6_months_late\n",
       "4     0.413423            Count_6.12_months_late\n",
       "5     0.158460    Count_more_than_12_months_late\n",
       "6     0.023173    application_underwriting_score\n",
       "7     0.022475               no_of_premiums_paid\n",
       "8     0.017738                  sourcing_channel\n",
       "9     0.016476               residence_area_type\n",
       "10    0.018047                           premium"
      ]
     },
     "execution_count": 70,
     "metadata": {},
     "output_type": "execute_result"
    }
   ],
   "source": [
    "imp"
   ]
  },
  {
   "cell_type": "code",
   "execution_count": 87,
   "metadata": {},
   "outputs": [
    {
     "name": "stdout",
     "output_type": "stream",
     "text": [
      "[16:45:50] WARNING: C:/Users/Administrator/workspace/xgboost-win64_release_1.3.0/src/learner.cc:1061: Starting in XGBoost 1.3.0, the default evaluation metric used with the objective 'binary:logistic' was changed from 'error' to 'logloss'. Explicitly set eval_metric if you'd like to restore the old behavior.\n",
      "[0]\tvalidation_0-logloss:0.68942\tvalidation_1-logloss:0.68950\n",
      "[250]\tvalidation_0-logloss:0.38673\tvalidation_1-logloss:0.39753\n",
      "[500]\tvalidation_0-logloss:0.34189\tvalidation_1-logloss:0.36051\n",
      "[750]\tvalidation_0-logloss:0.32423\tvalidation_1-logloss:0.34875\n",
      "[1000]\tvalidation_0-logloss:0.31052\tvalidation_1-logloss:0.34013\n",
      "[1250]\tvalidation_0-logloss:0.29787\tvalidation_1-logloss:0.33296\n",
      "[1500]\tvalidation_0-logloss:0.28679\tvalidation_1-logloss:0.32658\n",
      "[1750]\tvalidation_0-logloss:0.27719\tvalidation_1-logloss:0.32123\n",
      "[1999]\tvalidation_0-logloss:0.26784\tvalidation_1-logloss:0.31594\n",
      "[16:47:15] WARNING: C:/Users/Administrator/workspace/xgboost-win64_release_1.3.0/src/learner.cc:1061: Starting in XGBoost 1.3.0, the default evaluation metric used with the objective 'binary:logistic' was changed from 'error' to 'logloss'. Explicitly set eval_metric if you'd like to restore the old behavior.\n",
      "[0]\tvalidation_0-logloss:0.68938\tvalidation_1-logloss:0.68939\n",
      "[250]\tvalidation_0-logloss:0.38253\tvalidation_1-logloss:0.39047\n",
      "[500]\tvalidation_0-logloss:0.33742\tvalidation_1-logloss:0.35403\n",
      "[750]\tvalidation_0-logloss:0.32019\tvalidation_1-logloss:0.34309\n",
      "[1000]\tvalidation_0-logloss:0.30786\tvalidation_1-logloss:0.33625\n",
      "[1250]\tvalidation_0-logloss:0.29625\tvalidation_1-logloss:0.33010\n",
      "[1500]\tvalidation_0-logloss:0.28514\tvalidation_1-logloss:0.32424\n",
      "[1750]\tvalidation_0-logloss:0.27461\tvalidation_1-logloss:0.31863\n",
      "[1999]\tvalidation_0-logloss:0.26571\tvalidation_1-logloss:0.31421\n",
      "[16:48:36] WARNING: C:/Users/Administrator/workspace/xgboost-win64_release_1.3.0/src/learner.cc:1061: Starting in XGBoost 1.3.0, the default evaluation metric used with the objective 'binary:logistic' was changed from 'error' to 'logloss'. Explicitly set eval_metric if you'd like to restore the old behavior.\n",
      "[0]\tvalidation_0-logloss:0.68943\tvalidation_1-logloss:0.68951\n",
      "[250]\tvalidation_0-logloss:0.38610\tvalidation_1-logloss:0.39694\n",
      "[500]\tvalidation_0-logloss:0.34007\tvalidation_1-logloss:0.36037\n",
      "[750]\tvalidation_0-logloss:0.32149\tvalidation_1-logloss:0.34954\n",
      "[1000]\tvalidation_0-logloss:0.30916\tvalidation_1-logloss:0.34305\n",
      "[1250]\tvalidation_0-logloss:0.29752\tvalidation_1-logloss:0.33690\n",
      "[1500]\tvalidation_0-logloss:0.28639\tvalidation_1-logloss:0.33093\n",
      "[1750]\tvalidation_0-logloss:0.27576\tvalidation_1-logloss:0.32510\n",
      "[1999]\tvalidation_0-logloss:0.26626\tvalidation_1-logloss:0.32007\n",
      "[16:50:03] WARNING: C:/Users/Administrator/workspace/xgboost-win64_release_1.3.0/src/learner.cc:1061: Starting in XGBoost 1.3.0, the default evaluation metric used with the objective 'binary:logistic' was changed from 'error' to 'logloss'. Explicitly set eval_metric if you'd like to restore the old behavior.\n",
      "[0]\tvalidation_0-logloss:0.68947\tvalidation_1-logloss:0.68952\n",
      "[250]\tvalidation_0-logloss:0.38707\tvalidation_1-logloss:0.39670\n",
      "[500]\tvalidation_0-logloss:0.34093\tvalidation_1-logloss:0.35900\n",
      "[750]\tvalidation_0-logloss:0.32232\tvalidation_1-logloss:0.34709\n",
      "[1000]\tvalidation_0-logloss:0.30935\tvalidation_1-logloss:0.33913\n",
      "[1250]\tvalidation_0-logloss:0.29847\tvalidation_1-logloss:0.33271\n",
      "[1500]\tvalidation_0-logloss:0.28708\tvalidation_1-logloss:0.32614\n",
      "[1750]\tvalidation_0-logloss:0.27739\tvalidation_1-logloss:0.32059\n",
      "[1999]\tvalidation_0-logloss:0.26889\tvalidation_1-logloss:0.31570\n",
      "[16:51:26] WARNING: C:/Users/Administrator/workspace/xgboost-win64_release_1.3.0/src/learner.cc:1061: Starting in XGBoost 1.3.0, the default evaluation metric used with the objective 'binary:logistic' was changed from 'error' to 'logloss'. Explicitly set eval_metric if you'd like to restore the old behavior.\n",
      "[0]\tvalidation_0-logloss:0.68941\tvalidation_1-logloss:0.68946\n",
      "[250]\tvalidation_0-logloss:0.38437\tvalidation_1-logloss:0.39563\n",
      "[500]\tvalidation_0-logloss:0.33850\tvalidation_1-logloss:0.35970\n",
      "[750]\tvalidation_0-logloss:0.32043\tvalidation_1-logloss:0.34783\n",
      "[1000]\tvalidation_0-logloss:0.30770\tvalidation_1-logloss:0.34025\n",
      "[1250]\tvalidation_0-logloss:0.29553\tvalidation_1-logloss:0.33313\n",
      "[1500]\tvalidation_0-logloss:0.28508\tvalidation_1-logloss:0.32724\n",
      "[1750]\tvalidation_0-logloss:0.27516\tvalidation_1-logloss:0.32227\n",
      "[1999]\tvalidation_0-logloss:0.26619\tvalidation_1-logloss:0.31725\n"
     ]
    }
   ],
   "source": [
    "xgb_model = XGBClassifier(random_state=2020, n_estimators=2000, max_depth=8, colsample_bytree=0.85, missing=None,\n",
    "                          scale_pos_weight=0.1, learning_rate=0.008, reg_alpha=2.01, reg_lambda=0.05, verbosity=1)\n",
    "\n",
    "\n",
    "ff1 = []\n",
    "ff2 = []\n",
    "kf = KFold(n_splits=5)\n",
    "importance = []\n",
    "for train_index, test_index in kf.split(X):\n",
    "    X_train, X_test = X.iloc[train_index], X.iloc[test_index]\n",
    "    y_train, y_test = y[train_index], y[test_index]\n",
    "\n",
    "    xgb_model.fit(X_train, y_train, eval_set=[(X_train, y_train),(X_test, y_test)], verbose=250, early_stopping_rounds=10)\n",
    "    \n",
    "    imp = pd.DataFrame({'Importance':xgb_model.feature_importances_,'Feature':X.columns})\n",
    "    importance.append(imp)    \n"
   ]
  },
  {
   "cell_type": "code",
   "execution_count": 88,
   "metadata": {},
   "outputs": [
    {
     "data": {
      "text/plain": [
       "[    Importance                           Feature\n",
       " 0     0.116234  perc_premium_paid_by_cash_credit\n",
       " 1     0.023233                       age_in_days\n",
       " 2     0.021367                            Income\n",
       " 3     0.197811             Count_3.6_months_late\n",
       " 4     0.371811            Count_6.12_months_late\n",
       " 5     0.166147    Count_more_than_12_months_late\n",
       " 6     0.023634    application_underwriting_score\n",
       " 7     0.024310               no_of_premiums_paid\n",
       " 8     0.018808                  sourcing_channel\n",
       " 9     0.017828               residence_area_type\n",
       " 10    0.018817                           premium,\n",
       "     Importance                           Feature\n",
       " 0     0.116575  perc_premium_paid_by_cash_credit\n",
       " 1     0.023246                       age_in_days\n",
       " 2     0.020691                            Income\n",
       " 3     0.171118             Count_3.6_months_late\n",
       " 4     0.416508            Count_6.12_months_late\n",
       " 5     0.147602    Count_more_than_12_months_late\n",
       " 6     0.023368    application_underwriting_score\n",
       " 7     0.023655               no_of_premiums_paid\n",
       " 8     0.020130                  sourcing_channel\n",
       " 9     0.018452               residence_area_type\n",
       " 10    0.018654                           premium,\n",
       "     Importance                           Feature\n",
       " 0     0.109573  perc_premium_paid_by_cash_credit\n",
       " 1     0.022711                       age_in_days\n",
       " 2     0.020086                            Income\n",
       " 3     0.182669             Count_3.6_months_late\n",
       " 4     0.425327            Count_6.12_months_late\n",
       " 5     0.139041    Count_more_than_12_months_late\n",
       " 6     0.023021    application_underwriting_score\n",
       " 7     0.022708               no_of_premiums_paid\n",
       " 8     0.018049                  sourcing_channel\n",
       " 9     0.018660               residence_area_type\n",
       " 10    0.018155                           premium,\n",
       "     Importance                           Feature\n",
       " 0     0.108813  perc_premium_paid_by_cash_credit\n",
       " 1     0.021833                       age_in_days\n",
       " 2     0.020015                            Income\n",
       " 3     0.172925             Count_3.6_months_late\n",
       " 4     0.438619            Count_6.12_months_late\n",
       " 5     0.134624    Count_more_than_12_months_late\n",
       " 6     0.023398    application_underwriting_score\n",
       " 7     0.023065               no_of_premiums_paid\n",
       " 8     0.020059                  sourcing_channel\n",
       " 9     0.018853               residence_area_type\n",
       " 10    0.017795                           premium,\n",
       "     Importance                           Feature\n",
       " 0     0.110780  perc_premium_paid_by_cash_credit\n",
       " 1     0.022960                       age_in_days\n",
       " 2     0.021069                            Income\n",
       " 3     0.175398             Count_3.6_months_late\n",
       " 4     0.413423            Count_6.12_months_late\n",
       " 5     0.158460    Count_more_than_12_months_late\n",
       " 6     0.023173    application_underwriting_score\n",
       " 7     0.022475               no_of_premiums_paid\n",
       " 8     0.017738                  sourcing_channel\n",
       " 9     0.016476               residence_area_type\n",
       " 10    0.018047                           premium]"
      ]
     },
     "execution_count": 88,
     "metadata": {},
     "output_type": "execute_result"
    }
   ],
   "source": [
    "importance"
   ]
  },
  {
   "cell_type": "code",
   "execution_count": 93,
   "metadata": {},
   "outputs": [
    {
     "data": {
      "text/html": [
       "<div>\n",
       "<style scoped>\n",
       "    .dataframe tbody tr th:only-of-type {\n",
       "        vertical-align: middle;\n",
       "    }\n",
       "\n",
       "    .dataframe tbody tr th {\n",
       "        vertical-align: top;\n",
       "    }\n",
       "\n",
       "    .dataframe thead th {\n",
       "        text-align: right;\n",
       "    }\n",
       "</style>\n",
       "<table border=\"1\" class=\"dataframe\">\n",
       "  <thead>\n",
       "    <tr style=\"text-align: right;\">\n",
       "      <th></th>\n",
       "      <th>Feature</th>\n",
       "      <th>Importance_x</th>\n",
       "      <th>Importance_y</th>\n",
       "      <th>Importance_x</th>\n",
       "      <th>Importance_y</th>\n",
       "      <th>Importance</th>\n",
       "    </tr>\n",
       "  </thead>\n",
       "  <tbody>\n",
       "    <tr>\n",
       "      <th>0</th>\n",
       "      <td>perc_premium_paid_by_cash_credit</td>\n",
       "      <td>0.116234</td>\n",
       "      <td>0.116575</td>\n",
       "      <td>0.109573</td>\n",
       "      <td>0.108813</td>\n",
       "      <td>0.110780</td>\n",
       "    </tr>\n",
       "    <tr>\n",
       "      <th>1</th>\n",
       "      <td>age_in_days</td>\n",
       "      <td>0.023233</td>\n",
       "      <td>0.023246</td>\n",
       "      <td>0.022711</td>\n",
       "      <td>0.021833</td>\n",
       "      <td>0.022960</td>\n",
       "    </tr>\n",
       "    <tr>\n",
       "      <th>2</th>\n",
       "      <td>Income</td>\n",
       "      <td>0.021367</td>\n",
       "      <td>0.020691</td>\n",
       "      <td>0.020086</td>\n",
       "      <td>0.020015</td>\n",
       "      <td>0.021069</td>\n",
       "    </tr>\n",
       "    <tr>\n",
       "      <th>3</th>\n",
       "      <td>Count_3.6_months_late</td>\n",
       "      <td>0.197811</td>\n",
       "      <td>0.171118</td>\n",
       "      <td>0.182669</td>\n",
       "      <td>0.172925</td>\n",
       "      <td>0.175398</td>\n",
       "    </tr>\n",
       "    <tr>\n",
       "      <th>4</th>\n",
       "      <td>Count_6.12_months_late</td>\n",
       "      <td>0.371811</td>\n",
       "      <td>0.416508</td>\n",
       "      <td>0.425327</td>\n",
       "      <td>0.438619</td>\n",
       "      <td>0.413423</td>\n",
       "    </tr>\n",
       "    <tr>\n",
       "      <th>5</th>\n",
       "      <td>Count_more_than_12_months_late</td>\n",
       "      <td>0.166147</td>\n",
       "      <td>0.147602</td>\n",
       "      <td>0.139041</td>\n",
       "      <td>0.134624</td>\n",
       "      <td>0.158460</td>\n",
       "    </tr>\n",
       "    <tr>\n",
       "      <th>6</th>\n",
       "      <td>application_underwriting_score</td>\n",
       "      <td>0.023634</td>\n",
       "      <td>0.023368</td>\n",
       "      <td>0.023021</td>\n",
       "      <td>0.023398</td>\n",
       "      <td>0.023173</td>\n",
       "    </tr>\n",
       "    <tr>\n",
       "      <th>7</th>\n",
       "      <td>no_of_premiums_paid</td>\n",
       "      <td>0.024310</td>\n",
       "      <td>0.023655</td>\n",
       "      <td>0.022708</td>\n",
       "      <td>0.023065</td>\n",
       "      <td>0.022475</td>\n",
       "    </tr>\n",
       "    <tr>\n",
       "      <th>8</th>\n",
       "      <td>sourcing_channel</td>\n",
       "      <td>0.018808</td>\n",
       "      <td>0.020130</td>\n",
       "      <td>0.018049</td>\n",
       "      <td>0.020059</td>\n",
       "      <td>0.017738</td>\n",
       "    </tr>\n",
       "    <tr>\n",
       "      <th>9</th>\n",
       "      <td>residence_area_type</td>\n",
       "      <td>0.017828</td>\n",
       "      <td>0.018452</td>\n",
       "      <td>0.018660</td>\n",
       "      <td>0.018853</td>\n",
       "      <td>0.016476</td>\n",
       "    </tr>\n",
       "    <tr>\n",
       "      <th>10</th>\n",
       "      <td>premium</td>\n",
       "      <td>0.018817</td>\n",
       "      <td>0.018654</td>\n",
       "      <td>0.018155</td>\n",
       "      <td>0.017795</td>\n",
       "      <td>0.018047</td>\n",
       "    </tr>\n",
       "  </tbody>\n",
       "</table>\n",
       "</div>"
      ],
      "text/plain": [
       "                             Feature  Importance_x  Importance_y  \\\n",
       "0   perc_premium_paid_by_cash_credit      0.116234      0.116575   \n",
       "1                        age_in_days      0.023233      0.023246   \n",
       "2                             Income      0.021367      0.020691   \n",
       "3              Count_3.6_months_late      0.197811      0.171118   \n",
       "4             Count_6.12_months_late      0.371811      0.416508   \n",
       "5     Count_more_than_12_months_late      0.166147      0.147602   \n",
       "6     application_underwriting_score      0.023634      0.023368   \n",
       "7                no_of_premiums_paid      0.024310      0.023655   \n",
       "8                   sourcing_channel      0.018808      0.020130   \n",
       "9                residence_area_type      0.017828      0.018452   \n",
       "10                           premium      0.018817      0.018654   \n",
       "\n",
       "    Importance_x  Importance_y  Importance  \n",
       "0       0.109573      0.108813    0.110780  \n",
       "1       0.022711      0.021833    0.022960  \n",
       "2       0.020086      0.020015    0.021069  \n",
       "3       0.182669      0.172925    0.175398  \n",
       "4       0.425327      0.438619    0.413423  \n",
       "5       0.139041      0.134624    0.158460  \n",
       "6       0.023021      0.023398    0.023173  \n",
       "7       0.022708      0.023065    0.022475  \n",
       "8       0.018049      0.020059    0.017738  \n",
       "9       0.018660      0.018853    0.016476  \n",
       "10      0.018155      0.017795    0.018047  "
      ]
     },
     "execution_count": 93,
     "metadata": {},
     "output_type": "execute_result"
    }
   ],
   "source": [
    "tmp_df = pd.merge(importance[0], importance[1], left_on='Feature', \n",
    "                  right_on='Feature')[['Feature', 'Importance_x', 'Importance_y']]\n",
    "for i in range(2, len(importance)):\n",
    "    tmp_df = pd.merge(tmp_df, importance[i], left_on='Feature', \n",
    "                      right_on='Feature')\n",
    "\n",
    "tmp_df"
   ]
  },
  {
   "cell_type": "code",
   "execution_count": 78,
   "metadata": {},
   "outputs": [
    {
     "data": {
      "text/html": [
       "<div>\n",
       "<style scoped>\n",
       "    .dataframe tbody tr th:only-of-type {\n",
       "        vertical-align: middle;\n",
       "    }\n",
       "\n",
       "    .dataframe tbody tr th {\n",
       "        vertical-align: top;\n",
       "    }\n",
       "\n",
       "    .dataframe thead th {\n",
       "        text-align: right;\n",
       "    }\n",
       "</style>\n",
       "<table border=\"1\" class=\"dataframe\">\n",
       "  <thead>\n",
       "    <tr style=\"text-align: right;\">\n",
       "      <th></th>\n",
       "      <th>Importance</th>\n",
       "      <th>Feature</th>\n",
       "    </tr>\n",
       "  </thead>\n",
       "  <tbody>\n",
       "  </tbody>\n",
       "</table>\n",
       "</div>"
      ],
      "text/plain": [
       "Empty DataFrame\n",
       "Columns: [Importance, Feature]\n",
       "Index: []"
      ]
     },
     "execution_count": 78,
     "metadata": {},
     "output_type": "execute_result"
    }
   ],
   "source": [
    "importance[0].merge(importance[1], )"
   ]
  },
  {
   "cell_type": "code",
   "execution_count": 84,
   "metadata": {},
   "outputs": [
    {
     "data": {
      "text/html": [
       "<div>\n",
       "<style scoped>\n",
       "    .dataframe tbody tr th:only-of-type {\n",
       "        vertical-align: middle;\n",
       "    }\n",
       "\n",
       "    .dataframe tbody tr th {\n",
       "        vertical-align: top;\n",
       "    }\n",
       "\n",
       "    .dataframe thead th {\n",
       "        text-align: right;\n",
       "    }\n",
       "</style>\n",
       "<table border=\"1\" class=\"dataframe\">\n",
       "  <thead>\n",
       "    <tr style=\"text-align: right;\">\n",
       "      <th></th>\n",
       "      <th>Feature</th>\n",
       "      <th>Importance_x</th>\n",
       "      <th>Importance_y</th>\n",
       "    </tr>\n",
       "  </thead>\n",
       "  <tbody>\n",
       "    <tr>\n",
       "      <th>0</th>\n",
       "      <td>perc_premium_paid_by_cash_credit</td>\n",
       "      <td>0.113755</td>\n",
       "      <td>0.093420</td>\n",
       "    </tr>\n",
       "    <tr>\n",
       "      <th>1</th>\n",
       "      <td>age_in_days</td>\n",
       "      <td>0.025773</td>\n",
       "      <td>0.023201</td>\n",
       "    </tr>\n",
       "    <tr>\n",
       "      <th>2</th>\n",
       "      <td>Income</td>\n",
       "      <td>0.024175</td>\n",
       "      <td>0.020530</td>\n",
       "    </tr>\n",
       "    <tr>\n",
       "      <th>3</th>\n",
       "      <td>Count_3.6_months_late</td>\n",
       "      <td>0.169130</td>\n",
       "      <td>0.172824</td>\n",
       "    </tr>\n",
       "    <tr>\n",
       "      <th>4</th>\n",
       "      <td>Count_6.12_months_late</td>\n",
       "      <td>0.398314</td>\n",
       "      <td>0.458158</td>\n",
       "    </tr>\n",
       "    <tr>\n",
       "      <th>5</th>\n",
       "      <td>Count_more_than_12_months_late</td>\n",
       "      <td>0.152119</td>\n",
       "      <td>0.135576</td>\n",
       "    </tr>\n",
       "    <tr>\n",
       "      <th>6</th>\n",
       "      <td>application_underwriting_score</td>\n",
       "      <td>0.026716</td>\n",
       "      <td>0.023525</td>\n",
       "    </tr>\n",
       "    <tr>\n",
       "      <th>7</th>\n",
       "      <td>no_of_premiums_paid</td>\n",
       "      <td>0.025001</td>\n",
       "      <td>0.022528</td>\n",
       "    </tr>\n",
       "    <tr>\n",
       "      <th>8</th>\n",
       "      <td>sourcing_channel</td>\n",
       "      <td>0.022627</td>\n",
       "      <td>0.016940</td>\n",
       "    </tr>\n",
       "    <tr>\n",
       "      <th>9</th>\n",
       "      <td>residence_area_type</td>\n",
       "      <td>0.021802</td>\n",
       "      <td>0.016384</td>\n",
       "    </tr>\n",
       "    <tr>\n",
       "      <th>10</th>\n",
       "      <td>premium</td>\n",
       "      <td>0.020589</td>\n",
       "      <td>0.016914</td>\n",
       "    </tr>\n",
       "  </tbody>\n",
       "</table>\n",
       "</div>"
      ],
      "text/plain": [
       "                             Feature  Importance_x  Importance_y\n",
       "0   perc_premium_paid_by_cash_credit      0.113755      0.093420\n",
       "1                        age_in_days      0.025773      0.023201\n",
       "2                             Income      0.024175      0.020530\n",
       "3              Count_3.6_months_late      0.169130      0.172824\n",
       "4             Count_6.12_months_late      0.398314      0.458158\n",
       "5     Count_more_than_12_months_late      0.152119      0.135576\n",
       "6     application_underwriting_score      0.026716      0.023525\n",
       "7                no_of_premiums_paid      0.025001      0.022528\n",
       "8                   sourcing_channel      0.022627      0.016940\n",
       "9                residence_area_type      0.021802      0.016384\n",
       "10                           premium      0.020589      0.016914"
      ]
     },
     "execution_count": 84,
     "metadata": {},
     "output_type": "execute_result"
    }
   ],
   "source": [
    "tmp_df = pd.merge(importance[0], importance[1], left_on='Feature', \n",
    "                  right_on='Feature')[['Feature', 'Importance_x', 'Importance_y']]\n",
    "tmp_df"
   ]
  },
  {
   "cell_type": "code",
   "execution_count": 86,
   "metadata": {},
   "outputs": [
    {
     "data": {
      "text/plain": [
       "0     0.103588\n",
       "1     0.024487\n",
       "2     0.022353\n",
       "3     0.170977\n",
       "4     0.428236\n",
       "5     0.143847\n",
       "6     0.025120\n",
       "7     0.023764\n",
       "8     0.019783\n",
       "9     0.019093\n",
       "10    0.018751\n",
       "dtype: float32"
      ]
     },
     "execution_count": 86,
     "metadata": {},
     "output_type": "execute_result"
    }
   ],
   "source": [
    "tmp_df.mean(axis=1)"
   ]
  },
  {
   "cell_type": "code",
   "execution_count": null,
   "metadata": {},
   "outputs": [],
   "source": []
  }
 ],
 "metadata": {
  "kernelspec": {
   "display_name": "Python 3",
   "language": "python",
   "name": "python3"
  },
  "language_info": {
   "codemirror_mode": {
    "name": "ipython",
    "version": 3
   },
   "file_extension": ".py",
   "mimetype": "text/x-python",
   "name": "python",
   "nbconvert_exporter": "python",
   "pygments_lexer": "ipython3",
   "version": "3.8.3"
  }
 },
 "nbformat": 4,
 "nbformat_minor": 4
}
